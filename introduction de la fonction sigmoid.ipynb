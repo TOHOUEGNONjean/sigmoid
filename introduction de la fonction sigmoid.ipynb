{
 "cells": [
  {
   "cell_type": "code",
   "execution_count": 13,
   "id": "06a73a17",
   "metadata": {},
   "outputs": [],
   "source": [
    "import numpy as np\n",
    "import matplotlib.pyplot as plt"
   ]
  },
  {
   "cell_type": "code",
   "execution_count": 14,
   "id": "84891876",
   "metadata": {},
   "outputs": [],
   "source": [
    "def sigmoid(x):\n",
    "    return 1/(1+ np.exp(-x))"
   ]
  },
  {
   "cell_type": "code",
   "execution_count": 15,
   "id": "bf0b5b58",
   "metadata": {
    "scrolled": true
   },
   "outputs": [
    {
     "data": {
      "image/png": "[encoded data removed]",
      "text/plain": [
       "<Figure size 640x480 with 1 Axes>"
      ]
     },
     "metadata": {},
     "output_type": "display_data"
    }
   ],
   "source": [
    "X = np.arange(-10,10,0.01)\n",
    "plt.plot(X, sigmoid(X))\n",
    "plt.show()"
   ]
  },
  {
   "cell_type": "code",
   "execution_count": 12,
   "id": "13884b68",
   "metadata": {
    "scrolled": false
   },
   "outputs": [
    {
     "data": {
      "text/plain": [
       "0.5"
      ]
     },
     "execution_count": 12,
     "metadata": {},
     "output_type": "execute_result"
    }
   ],
   "source": [
    "sigmoid(0)"
   ]
  },
  {
   "cell_type": "markdown",
   "id": "ffd90893",
   "metadata": {},
   "source": [
    "Erreur avec sigmoid"
   ]
  },
  {
   "cell_type": "code",
   "execution_count": 16,
   "id": "6619e090",
   "metadata": {},
   "outputs": [],
   "source": [
    "def erreur(X, y, params):\n",
    "    info = {}\n",
    "    #params = {\"w\":w, \"b\":b}\n",
    "    # X est le featurs (une matrice de taille (m,n))\n",
    "    # y la sortie\n",
    "    M1 = np.dot(X,params[\"w1\"]) # dans ce cas w doit être de taille (n,1)\n",
    "    N1 = M1 + params['b1']\n",
    "    S = sigmoid(N1)\n",
    "    M2 = np.dot(S, params['w2'])\n",
    "    P = M2 + params['b2']\n",
    "    \n",
    "    L =  np.mean((y-P)**2)\n",
    "    \n",
    "    info['X'] = X\n",
    "    info['y'] = y\n",
    "    info['M1'] = M1\n",
    "    info['N1'] = N1\n",
    "    info['S'] = S\n",
    "    info['M2'] = M2\n",
    "    info['P'] = P\n",
    "    \n",
    "    return L, info\n"
   ]
  },
  {
   "cell_type": "code",
   "execution_count": 45,
   "id": "2913659e",
   "metadata": {},
   "outputs": [],
   "source": [
    "def gradian(info, param):\n",
    "    grad = {}\n",
    "    dl_dp = -2 * (info['y'] - info['P'])\n",
    "    dp_b2 = 1\n",
    "    dm2_w2 = info[\"S\"].T\n",
    "    dm2_s1 = param['w2'].T\n",
    "    ds_dn1 = sigmoid(info['N1']) * (1 - sigmoid(info[\"N1\"]))\n",
    "    dl_ds = np.dot(dl_dp, dm2_s1)\n",
    "    \n",
    "    dl_n1 = dl_ds * ds_dn1\n",
    "    dn1_b1 = 1\n",
    "    dm1_dw1 = info['X'].T\n",
    "    # pour le transformation\n",
    "    #***********************\n",
    "    #pour la prediction\n",
    "    # ********************************\n",
    "    dl_w2 = np.dot(dm2_w2,dl_dp)*dp_b2\n",
    "    #********************************\n",
    "    dl_db1 = (dl_n1 * dn1_b1).sum()\n",
    "    dl_db1 = np.sum(dl_db1)\n",
    "    dl_dm1 = dl_n1\n",
    "    #********************************\n",
    "    dl_db2 =np.sum(dl_dp * dp_b2)\n",
    "    \n",
    "    #dl_dw = np.dot(dm_dw, dl_dp ) * dp_dm    \n",
    "    #dl_db = np.sum(dl_dp*1)\n",
    "    dl_w1 = np.dot(dm1_dw1,dl_dm1)\n",
    "    # pour le transformation\n",
    "    grad['w1'] = dl_w1\n",
    "    grad['b1'] = dl_db1\n",
    "    #pour le prédiction\n",
    "    grad['w2'] = dl_w2\n",
    "    grad['b2'] = dl_db2\n",
    "    \n",
    "    return grad"
   ]
  },
  {
   "cell_type": "code",
   "execution_count": 46,
   "id": "48e32c6f",
   "metadata": {},
   "outputs": [],
   "source": [
    "def train(X,y, epoch, learning_rate):\n",
    "    # weight initialisation\n",
    "    params = {}\n",
    "    \n",
    "    n_features = X.shape[1]\n",
    "    np.random.seed(42)\n",
    "    params[\"w1\"] = np.random.randn(n_features,n_features)\n",
    "    params[\"b1\"] = np.random.randn(1,n_features)\n",
    "    params[\"w2\"] = np.random.randn(n_features,1)\n",
    "    params[\"b2\"] = np.random.randn(1,1)\n",
    "    \n",
    "    liste_erreur = []\n",
    "    # forward\n",
    "    for i in range(epoch):\n",
    "        loss, info = erreur(X,y,params)\n",
    "        liste_erreur.append(loss)\n",
    "        print(f'Epoch {i+1}............................ loss => {loss}')\n",
    "        \n",
    "        # backword \n",
    "        # le gradiant descent\n",
    "        grad = gradian(info, params)\n",
    "        \n",
    "        #update\n",
    "        for p in params:\n",
    "            params[p] = params[p] - learning_rate * grad[p]\n",
    "    return params, liste_erreur"
   ]
  },
  {
   "cell_type": "code",
   "execution_count": 47,
   "id": "b7d93196",
   "metadata": {},
   "outputs": [],
   "source": [
    "import pandas as pd\n",
    "\n",
    "data_url = \"http://lib.stat.cmu.edu/datasets/boston\"\n",
    "raw_df = pd.read_csv(data_url, sep=\"\\s+\", skiprows=22, header=None)\n",
    "data = np.hstack([raw_df.values[::2, :], raw_df.values[1::2, :2]])\n",
    "target = raw_df.values[1::2, 2]\n",
    "data = data\n",
    "target = target"
   ]
  },
  {
   "cell_type": "code",
   "execution_count": 48,
   "id": "4ea4607f",
   "metadata": {},
   "outputs": [],
   "source": [
    "X = data\n",
    "y = target.reshape(506,1)"
   ]
  },
  {
   "cell_type": "code",
   "execution_count": 49,
   "id": "159de705",
   "metadata": {},
   "outputs": [],
   "source": [
    "from sklearn.model_selection import train_test_split\n",
    "X_train, X_test, y_train, y_test = train_test_split(X, y, test_size=0.25, random_state=0)\n",
    "\n",
    "from sklearn.preprocessing import StandardScaler\n",
    "scaler = StandardScaler()\n",
    "X_train = scaler.fit_transform(X_train)\n",
    "\n",
    "X_test = scaler.transform(X_test)\n"
   ]
  },
  {
   "cell_type": "code",
   "execution_count": 50,
   "id": "128d7539",
   "metadata": {},
   "outputs": [
    {
     "name": "stdout",
     "output_type": "stream",
     "text": [
      "Epoch 1............................ loss => 658.747187918459\n",
      "Epoch 2............................ loss => 364.03824881583705\n",
      "Epoch 3............................ loss => 204.36163978775102\n",
      "Epoch 4............................ loss => 107.81590012640753\n",
      "Epoch 5............................ loss => 79.82851947423356\n",
      "Epoch 6............................ loss => 69.19238067900142\n",
      "Epoch 7............................ loss => 61.51000932784534\n",
      "Epoch 8............................ loss => 55.87126460945957\n",
      "Epoch 9............................ loss => 51.61089918880339\n",
      "Epoch 10............................ loss => 48.18702007396802\n",
      "Epoch 11............................ loss => 45.279434222606184\n",
      "Epoch 12............................ loss => 42.70984702947751\n",
      "Epoch 13............................ loss => 40.38472696704206\n",
      "Epoch 14............................ loss => 38.25904125179606\n",
      "Epoch 15............................ loss => 36.312561000344154\n",
      "Epoch 16............................ loss => 34.535764441910274\n",
      "Epoch 17............................ loss => 32.922424891985685\n",
      "Epoch 18............................ loss => 31.46630112837073\n",
      "Epoch 19............................ loss => 30.15969540496228\n",
      "Epoch 20............................ loss => 28.99257512141944\n",
      "Epoch 21............................ loss => 27.952334443182952\n",
      "Epoch 22............................ loss => 27.02458824724043\n",
      "Epoch 23............................ loss => 26.194516842973442\n",
      "Epoch 24............................ loss => 25.447997495268528\n",
      "Epoch 25............................ loss => 24.77227359147801\n",
      "Epoch 26............................ loss => 24.15625638626937\n",
      "Epoch 27............................ loss => 23.590582492087126\n",
      "Epoch 28............................ loss => 23.067512977995335\n",
      "Epoch 29............................ loss => 22.58074098164364\n",
      "Epoch 30............................ loss => 22.125166050858304\n",
      "Epoch 31............................ loss => 21.69668075174815\n",
      "Epoch 32............................ loss => 21.291989771642662\n",
      "Epoch 33............................ loss => 20.90845412075191\n",
      "Epoch 34............................ loss => 20.543944998361074\n",
      "Epoch 35............................ loss => 20.196706679748022\n",
      "Epoch 36............................ loss => 19.865243625932933\n",
      "Epoch 37............................ loss => 19.548245056236773\n",
      "Epoch 38............................ loss => 19.244545196786195\n",
      "Epoch 39............................ loss => 18.953105819707616\n",
      "Epoch 40............................ loss => 18.673006895830735\n",
      "Epoch 41............................ loss => 18.40343686677666\n",
      "Epoch 42............................ loss => 18.14367986166527\n",
      "Epoch 43............................ loss => 17.893100498347753\n",
      "Epoch 44............................ loss => 17.651128025452373\n",
      "Epoch 45............................ loss => 17.417241551666223\n",
      "Epoch 46............................ loss => 17.190957770181274\n",
      "Epoch 47............................ loss => 16.971822324231983\n",
      "Epoch 48............................ loss => 16.75940591811389\n",
      "Epoch 49............................ loss => 16.55330640904916\n",
      "Epoch 50............................ loss => 16.353158120773653\n",
      "Epoch 51............................ loss => 16.158648818526252\n",
      "Epoch 52............................ loss => 15.969542154227637\n",
      "Epoch 53............................ loss => 15.785698363446206\n",
      "Epoch 54............................ loss => 15.607080463037732\n",
      "Epoch 55............................ loss => 15.433733078595793\n",
      "Epoch 56............................ loss => 15.265732465875622\n",
      "Epoch 57............................ loss => 15.103125320804754\n",
      "Epoch 58............................ loss => 14.945883788176022\n",
      "Epoch 59............................ loss => 14.793893169197526\n",
      "Epoch 60............................ loss => 14.646967847657615\n"
     ]
    }
   ],
   "source": [
    "params, erreurs = train(X_train, y_train, epoch=60, learning_rate=0.0001)"
   ]
  },
  {
   "cell_type": "code",
   "execution_count": 52,
   "id": "37b43e62",
   "metadata": {},
   "outputs": [
    {
     "data": {
      "text/plain": [
       "Text(0, 0.5, \"l'erreur\")"
      ]
     },
     "execution_count": 52,
     "metadata": {},
     "output_type": "execute_result"
    },
    {
     "data": {
      "image/png": "[encoded data removed]",
      "text/plain": [
       "<Figure size 640x480 with 1 Axes>"
      ]
     },
     "metadata": {},
     "output_type": "display_data"
    }
   ],
   "source": [
    "import matplotlib.pyplot as plt\n",
    "plt.plot(erreurs)\n",
    "plt.xlabel('les ')\n",
    "plt.ylabel(\"l'erreur\")\n"
   ]
  },
  {
   "cell_type": "code",
   "execution_count": 54,
   "id": "d04fcd45",
   "metadata": {},
   "outputs": [],
   "source": [
    "def predict(X, params):\n",
    "    M = np.dot(X, params[\"w1\"])\n",
    "    \n",
    "    N = M + params['b1']\n",
    "    S = sigmoid(N)\n",
    "    M2 = np.dot(S,params[\"w2\"])\n",
    "    P = M2+params[\"b2\"]\n",
    "    return P"
   ]
  },
  {
   "cell_type": "code",
   "execution_count": 55,
   "id": "b4ac8f6a",
   "metadata": {},
   "outputs": [],
   "source": [
    "def mse(y, pred):\n",
    "    return np.mean((y-pred)**2)\n",
    "\n",
    "def rmse(y, pred):\n",
    "    return np.sqrt(np.mean((y-pred)**2))\n",
    "\n",
    "def mae(y, pred):\n",
    "    return np.mean(np.abs(y-pred))"
   ]
  },
  {
   "cell_type": "code",
   "execution_count": 56,
   "id": "b9ac39a5",
   "metadata": {},
   "outputs": [],
   "source": [
    "prediction = predict(X_test, params)\n",
    "score_rmse = rmse(y_test, prediction)\n",
    "score_mae = mae(y_test, prediction)"
   ]
  },
  {
   "cell_type": "code",
   "execution_count": 57,
   "id": "65f339a2",
   "metadata": {},
   "outputs": [
    {
     "name": "stdout",
     "output_type": "stream",
     "text": [
      "RMse: 5.1334546911798205\n",
      "Mae: 3.351871573131282\n"
     ]
    }
   ],
   "source": [
    "print('RMse: {}'.format(score_rmse))\n",
    "print('Mae: {}'.format(score_mae))"
   ]
  },
  {
   "cell_type": "code",
   "execution_count": null,
   "id": "93f20caa",
   "metadata": {},
   "outputs": [],
   "source": []
  }
 ],
 "metadata": {
  "kernelspec": {
   "display_name": "Python 3 (ipykernel)",
   "language": "python",
   "name": "python3"
  },
  "language_info": {
   "codemirror_mode": {
    "name": "ipython",
    "version": 3
   },
   "file_extension": ".py",
   "mimetype": "text/x-python",
   "name": "python",
   "nbconvert_exporter": "python",
   "pygments_lexer": "ipython3",
   "version": "3.11.5"
  }
 },
 "nbformat": 4,
 "nbformat_minor": 5
}
